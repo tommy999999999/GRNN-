{
 "cells": [
  {
   "cell_type": "code",
   "execution_count": 44,
   "id": "d3dba8e4",
   "metadata": {},
   "outputs": [
    {
     "name": "stdout",
     "output_type": "stream",
     "text": [
      "Optimized Sigma: 0.1\n",
      "Validation RMSE: 13.782377926380425\n",
      "Test RMSE: 13.627117987912799\n"
     ]
    }
   ],
   "source": [
    "import pandas as pd\n",
    "import numpy as np\n",
    "from sklearn.preprocessing import MinMaxScaler\n",
    "from sklearn.model_selection import train_test_split\n",
    "from sklearn.metrics import mean_squared_error\n",
    "from datetime import datetime\n",
    "from tensorflow.keras.layers import Layer, Input, Dense\n",
    "from tensorflow.keras.models import Model\n",
    "\n",
    "# Load your data\n",
    "df = pd.read_csv('nsaids.csv')\n",
    "\n",
    "# Convert 'Sold_date' to datetime format and set as index\n",
    "df['Sold_date'] = pd.to_datetime(df['Sold_date'], format='%m/%d/%y')\n",
    "df.set_index('Sold_date', inplace=True)\n",
    "\n",
    "# Aggregate sales data on a weekly basis for each product\n",
    "weekly_sales = df.groupby([pd.Grouper(freq='W'), 'Product_details']).agg(total_sold=('Sold_quantity', 'sum')).reset_index()\n",
    "\n",
    "# Apply one-hot encoding to 'Product_details'\n",
    "weekly_sales_encoded = pd.concat([weekly_sales, pd.get_dummies(weekly_sales['Product_details'], prefix='product')], axis=1).drop('Product_details', axis=1)\n",
    "\n",
    "# Extract year and week number from 'Sold_date' for temporal features\n",
    "weekly_sales_encoded['year'] = weekly_sales_encoded['Sold_date'].dt.year\n",
    "weekly_sales_encoded['week_of_year'] = weekly_sales_encoded['Sold_date'].dt.isocalendar().week\n",
    "\n",
    "# Normalize the temporal features \n",
    "scaler = MinMaxScaler()\n",
    "features_columns = ['year', 'week_of_year'] + [col for col in weekly_sales_encoded.columns if col.startswith('product')]\n",
    "weekly_sales_encoded[features_columns] = scaler.fit_transform(weekly_sales_encoded[features_columns])\n",
    "\n",
    "# Split the data into features and target\n",
    "X = weekly_sales_encoded[features_columns].values\n",
    "y = weekly_sales_encoded['total_sold'].values\n",
    "\n",
    "# Splitting the dataset into training, validation, and testing sets\n",
    "X_train_val, X_test, y_train_val, y_test = train_test_split(X, y, test_size=0.15, random_state=42)\n",
    "X_train, X_val, y_train, y_val = train_test_split(X_train_val, y_train_val, test_size=0.1765, random_state=42)  # 0.1765 of 85% is roughly 15% of the whole\n",
    "\n",
    "# Define the Gaussian kernel function\n",
    "def gaussian_kernel(distance, sigma=0.5):\n",
    "    return np.exp(-distance**2 / (2 * sigma**2))\n",
    "\n",
    "# GRNN prediction function\n",
    "def grnn_predict(X_train, y_train, X_test, sigma=0.5):\n",
    "    \n",
    "    # Outputs storage for the final predictions\n",
    "    predictions = np.zeros(X_test.shape[0])\n",
    "    \n",
    "    # Iterate over each test instance pattern layer\n",
    "    for i, x_test in enumerate(X_test):\n",
    "        \n",
    "    # Compute distances to all training instances\n",
    "        distances = np.linalg.norm(X_train - x_test, axis=1)\n",
    "        \n",
    "    # Compute weights using the Gaussian kernel (hidden layer operation)\n",
    "        weights = gaussian_kernel(distances, sigma)\n",
    "        \n",
    "    # Summation layer operations\n",
    "        numerator = np.sum(weights * y_train)\n",
    "        denominator = np.sum(weights)\n",
    "        predictions[i] = numerator / denominator if denominator > 0 else 0\n",
    "    return predictions\n",
    "\n",
    "# Optimizing sigma using the validation set\n",
    "sigma_values = np.linspace(0.1, 2.0, 20)\n",
    "sigma_performance = []\n",
    "for sigma in sigma_values:\n",
    "    val_predictions = grnn_predict(X_train, y_train, X_val, sigma)\n",
    "    val_rmse = np.sqrt(mean_squared_error(y_val, val_predictions))\n",
    "    sigma_performance.append((sigma, val_rmse))\n",
    "best_sigma, best_val_rmse = min(sigma_performance, key=lambda x: x[1])\n",
    "\n",
    "# Using the best sigma to make predictions on the test set\n",
    "predictions = grnn_predict(X_train, y_train, X_test, best_sigma)\n",
    "\n",
    "# Evaluate the model\n",
    "test_rmse = np.sqrt(mean_squared_error(y_test, predictions))\n",
    "print(f'Optimized Sigma: {best_sigma}')\n",
    "print(f'Validation RMSE: {best_val_rmse}')\n",
    "print(f'Test RMSE: {test_rmse}')\n"
   ]
  },
  {
   "cell_type": "code",
   "execution_count": 41,
   "id": "43dc247f",
   "metadata": {},
   "outputs": [
    {
     "name": "stdout",
     "output_type": "stream",
     "text": [
      "2703\n"
     ]
    }
   ],
   "source": [
    "print(X_train.shape[0])\n"
   ]
  },
  {
   "cell_type": "code",
   "execution_count": null,
   "id": "6e13580a",
   "metadata": {},
   "outputs": [],
   "source": []
  }
 ],
 "metadata": {
  "kernelspec": {
   "display_name": "Python 3 (ipykernel)",
   "language": "python",
   "name": "python3"
  },
  "language_info": {
   "codemirror_mode": {
    "name": "ipython",
    "version": 3
   },
   "file_extension": ".py",
   "mimetype": "text/x-python",
   "name": "python",
   "nbconvert_exporter": "python",
   "pygments_lexer": "ipython3",
   "version": "3.11.5"
  }
 },
 "nbformat": 4,
 "nbformat_minor": 5
}
